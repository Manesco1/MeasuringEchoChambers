{
 "cells": [
  {
   "cell_type": "code",
   "execution_count": 1,
   "id": "b8b73868-c45d-4b65-9415-8a92b0bb518b",
   "metadata": {
    "tags": []
   },
   "outputs": [
    {
     "name": "stdout",
     "output_type": "stream",
     "text": [
      "C:\\Users\\Francesco\\Desktop\\Dissertation\\FINALDATA\\Comments\n"
     ]
    }
   ],
   "source": [
    "%cd \"C:\\Users\\Francesco\\Desktop\\Dissertation\\FINALDATA\\Comments\""
   ]
  },
  {
   "cell_type": "code",
   "execution_count": 2,
   "id": "041e8c28-c797-4365-be6e-c8ad7a95662e",
   "metadata": {
    "tags": []
   },
   "outputs": [],
   "source": [
    "import pandas as pd"
   ]
  },
  {
   "cell_type": "code",
   "execution_count": 3,
   "id": "b0ce0f4f-737c-4bec-8f9d-32f1b2a8d81a",
   "metadata": {
    "tags": []
   },
   "outputs": [],
   "source": [
    "def base36encode(number, alphabet='0123456789ABCDEFGHIJKLMNOPQRSTUVWXYZ'):\n",
    "    \"\"\"Convert positive integer to a base36 string.\"\"\"\n",
    "    if not isinstance(number, (int)):\n",
    "        raise TypeError('number must be an integer')\n",
    "\n",
    "    # Special case for zero\n",
    "    if number == 0:\n",
    "        return alphabet[0]\n",
    "\n",
    "    base36 = ''\n",
    "\n",
    "    sign = ''\n",
    "    if number < 0:\n",
    "        sign = '-'\n",
    "        number = - number\n",
    "\n",
    "    while number != 0:\n",
    "        number, i = divmod(number, len(alphabet))\n",
    "        base36 = alphabet[i] + base36\n",
    "\n",
    "    return sign + base36\n",
    "\n",
    "def base36decode(number):\n",
    "    return int(number, 36)"
   ]
  },
  {
   "cell_type": "code",
   "execution_count": 4,
   "id": "835c9e0c-d656-49aa-b657-81e4ac2bd679",
   "metadata": {
    "tags": []
   },
   "outputs": [
    {
     "name": "stderr",
     "output_type": "stream",
     "text": [
      "C:\\Users\\Francesco\\AppData\\Local\\Temp\\ipykernel_2020\\2849627134.py:1: DtypeWarning: Columns (29) have mixed types. Specify dtype option on import or set low_memory=False.\n",
      "  comms = pd.read_csv(\"N2_Nov_to_Feb_comments.csv\")\n"
     ]
    }
   ],
   "source": [
    "comms = pd.read_csv(\"N2_Nov_to_Feb_comments.csv\")\n",
    "comms[\"p_id\"] = comms[\"parent_id\"].astype('Int64')\n",
    "comms[\"p_id\"] = comms[\"p_id\"].fillna(0).astype(\"int64\")\n",
    "\n",
    "comms[\"p_id\"] = comms[\"p_id\"].apply(base36encode)\n",
    "comms.to_csv(\"N2_Nov_to_Feb_comments_decoded.csv\")"
   ]
  },
  {
   "cell_type": "code",
   "execution_count": 6,
   "id": "2a905b06-16f5-42e7-b2f9-7f13cbc67c67",
   "metadata": {},
   "outputs": [],
   "source": [
    "comms = pd.read_csv(\"C_Nov22commstot.csv\")\n",
    "comms[\"p_id\"] = comms[\"parent_id\"].astype('Int64')\n",
    "comms[\"p_id\"] = comms[\"p_id\"].fillna(0).astype(\"int64\")\n",
    "\n",
    "comms[\"p_id\"] = comms[\"p_id\"].apply(base36encode)\n",
    "comms.to_csv(\"C_Nov22commstot_decoded.csv\")"
   ]
  }
 ],
 "metadata": {
  "kernelspec": {
   "display_name": "Python 3 (ipykernel)",
   "language": "python",
   "name": "python3"
  },
  "language_info": {
   "codemirror_mode": {
    "name": "ipython",
    "version": 3
   },
   "file_extension": ".py",
   "mimetype": "text/x-python",
   "name": "python",
   "nbconvert_exporter": "python",
   "pygments_lexer": "ipython3",
   "version": "3.10.2"
  }
 },
 "nbformat": 4,
 "nbformat_minor": 5
}
